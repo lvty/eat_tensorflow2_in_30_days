{
 "cells": [
  {
   "cell_type": "markdown",
   "metadata": {},
   "source": [
    "# 1.优化器\n",
    "\n",
    "深度学习优化算法大概经历了 SGD -> SGDM -> NAG ->Adagrad -> Adadelta(RMSprop) -> Adam -> Nadam 这样的发展历程。\n",
    "\n",
    "详见《一个框架看懂优化算法之异同 SGD/AdaGrad/Adam》\n",
    "\n",
    "https://zhuanlan.zhihu.com/p/32230623\n",
    "\n",
    "对于一般新手炼丹师，优化器直接使用Adam，并使用其默认参数就OK了。\n",
    "\n",
    "一些爱写论文的炼丹师由于追求评估指标效果，可能会偏爱前期使用Adam优化器快速下降，后期使用SGD并精调优化器参数得到更好的结果。\n",
    "\n",
    "此外目前也有一些前沿的优化算法，据称效果比Adam更好，例如LazyAdam, Look-ahead, RAdam, Ranger等.\n",
    "\n",
    "在keras.optimizers子模块中，它们基本上都有对应的类的实现。\n",
    "\n",
    "* SGD, 默认参数为纯SGD, 设置momentum参数不为0实际上变成SGDM, 考虑了一阶动量, 设置 nesterov为True后变成NAG，即 Nesterov Acceleration Gradient，在计算梯度时计算的是向前走一步所在位置的梯度。\n",
    "\n",
    "* Adagrad, 考虑了二阶动量，对于不同的参数有不同的学习率，即自适应学习率。缺点是学习率单调下降，可能后期学习速率过慢乃至提前停止学习。\n",
    "\n",
    "* RMSprop, 考虑了二阶动量，对于不同的参数有不同的学习率，即自适应学习率，对Adagrad进行了优化，通过指数平滑只考虑一定窗口内的二阶动量。\n",
    "\n",
    "* Adadelta, 考虑了二阶动量，与RMSprop类似，但是更加复杂一些，自适应性更强。\n",
    "\n",
    "* Adam, 同时考虑了一阶动量和二阶动量，可以看成RMSprop上进一步考虑了Momentum。\n",
    "\n",
    "* Nadam, 在Adam基础上进一步考虑了 Nesterov Acceleration。"
   ]
  },
  {
   "cell_type": "code",
   "execution_count": 1,
   "metadata": {},
   "outputs": [],
   "source": [
    "import numpy as np\n",
    "import pandas as pd\n",
    "import tensorflow as tf\n",
    "from tensorflow.keras import layers,models,losses,metrics,callbacks\n",
    "import tensorflow.keras.backend as K "
   ]
  },
  {
   "cell_type": "markdown",
   "metadata": {},
   "source": [
    "## 1.优化器的使用\n",
    "\n",
    "优化器主要使用apply_gradients方法传入变量和对应的梯度从而来对给定变量进行迭代,或者直接使用minimize方法对目标函数进行迭代.\n",
    "\n",
    "更常用的方法是在编译时将优化器传入keras的Model,通过调用model.fit实现对loss的迭代优化.\n",
    "\n",
    "初始化优化器时会创建一个变量optimier.iterations用于记录迭代的次数,因此优化器和tf.Variable一样,一般需要@tf.function方法外创建."
   ]
  },
  {
   "cell_type": "code",
   "execution_count": 2,
   "metadata": {},
   "outputs": [],
   "source": [
    "#打印时间分割线\n",
    "@tf.function\n",
    "def printbar():\n",
    "    ts = tf.timestamp()\n",
    "    today_ts = ts%(24*60*60)\n",
    "\n",
    "    hour = tf.cast(today_ts//3600+8,tf.int32)%tf.constant(24)\n",
    "    minite = tf.cast((today_ts%3600)//60,tf.int32)\n",
    "    second = tf.cast(tf.floor(today_ts%60),tf.int32)\n",
    "    \n",
    "    def timeformat(m):\n",
    "        if tf.strings.length(tf.strings.format(\"{}\",m))==1:\n",
    "            return(tf.strings.format(\"0{}\",m))\n",
    "        else:\n",
    "            return(tf.strings.format(\"{}\",m))\n",
    "    \n",
    "    timestring = tf.strings.join([timeformat(hour),timeformat(minite),\n",
    "                timeformat(second)],separator = \":\")\n",
    "    tf.print(\"==========\"*8,end = \"\")\n",
    "    tf.print(timestring)"
   ]
  },
  {
   "cell_type": "code",
   "execution_count": 5,
   "metadata": {},
   "outputs": [],
   "source": [
    "## 求f(x)=a*x**2 + b * x + c的最小值\n",
    "##使用optimizer.apply_gradients\n",
    "\n",
    "x = tf.Variable(0.,name='x',dtype=tf.float32)\n",
    "optimizer = tf.keras.optimizers.SGD(learning_rate=0.01)\n",
    "\n",
    "@tf.function\n",
    "def minimizef():\n",
    "    a = tf.constant(1.)\n",
    "    b = tf.constant(-2.)\n",
    "    c = tf.constant(1.)\n",
    "    \n",
    "    while tf.constant(True):\n",
    "        with tf.GradientTape() as tape:\n",
    "            y = a*tf.pow(x,2) + b*x + c\n",
    "        dy_dx = tape.gradient(y,x)\n",
    "        optimizer.apply_gradients(grads_and_vars=[(dy_dx,x)])\n",
    "        \n",
    "        ##迭代终止条件\n",
    "        if tf.abs(dy_dx) < tf.constant(0.00001):\n",
    "            break\n",
    "        \n",
    "        if tf.math.mod(optimizer.iterations,100) == 0:\n",
    "            printbar()\n",
    "            tf.print('step=',optimizer.iterations)\n",
    "            tf.print('x=',x)\n",
    "    \n",
    "    y = a*tf.pow(x,2) + b*x + c\n",
    "    return y"
   ]
  },
  {
   "cell_type": "code",
   "execution_count": 6,
   "metadata": {},
   "outputs": [
    {
     "name": "stdout",
     "output_type": "stream",
     "text": [
      "================================================================================22:08:35\n",
      "step= 100\n",
      "x= 0.867380381\n",
      "================================================================================22:08:35\n",
      "step= 200\n",
      "x= 0.98241204\n",
      "================================================================================22:08:35\n",
      "step= 300\n",
      "x= 0.997667611\n",
      "================================================================================22:08:35\n",
      "step= 400\n",
      "x= 0.999690711\n",
      "================================================================================22:08:35\n",
      "step= 500\n",
      "x= 0.999959\n",
      "================================================================================22:08:35\n",
      "step= 600\n",
      "x= 0.999994516\n",
      "y= 0 x= 0.999995232\n"
     ]
    }
   ],
   "source": [
    "tf.print('y=',minimizef(),'x=',x)"
   ]
  },
  {
   "cell_type": "code",
   "execution_count": 7,
   "metadata": {},
   "outputs": [
    {
     "name": "stdout",
     "output_type": "stream",
     "text": [
      "epoch= 1606\n",
      "y= 0 x= 0.999998569\n"
     ]
    }
   ],
   "source": [
    "def f():\n",
    "    a = tf.constant(1.)\n",
    "    b = tf.constant(-2.)\n",
    "    c = tf.constant(1.)\n",
    "    y = a*tf.pow(x,2) + b*x + c\n",
    "    return y\n",
    "\n",
    "@tf.function\n",
    "def train(epoch=1000):\n",
    "    for _ in tf.range(epoch):\n",
    "        optimizer.minimize(f,[x])\n",
    "    tf.print('epoch=',optimizer.iterations)\n",
    "    return f()\n",
    "train(1000)\n",
    "tf.print('y=',f(),'x=',x)"
   ]
  },
  {
   "cell_type": "code",
   "execution_count": 8,
   "metadata": {},
   "outputs": [
    {
     "name": "stdout",
     "output_type": "stream",
     "text": [
      "Model: \"fake_model\"\n",
      "_________________________________________________________________\n",
      "Layer (type)                 Output Shape              Param #   \n",
      "=================================================================\n",
      "Total params: 1\n",
      "Trainable params: 1\n",
      "Non-trainable params: 0\n",
      "_________________________________________________________________\n",
      "Train on 100 samples\n",
      "Epoch 1/10\n",
      "100/100 [==============================] - 0s 1ms/sample - loss: 0.2550\n",
      "Epoch 2/10\n",
      "100/100 [==============================] - 0s 542us/sample - loss: 7.2587e-05\n",
      "Epoch 3/10\n",
      "100/100 [==============================] - 0s 451us/sample - loss: 1.5497e-08\n",
      "Epoch 4/10\n",
      "100/100 [==============================] - 0s 429us/sample - loss: 0.0000e+00\n",
      "Epoch 5/10\n",
      "100/100 [==============================] - 0s 422us/sample - loss: 0.0000e+00\n",
      "Epoch 6/10\n",
      "100/100 [==============================] - 0s 367us/sample - loss: 0.0000e+00\n",
      "Epoch 7/10\n",
      "100/100 [==============================] - 0s 370us/sample - loss: 0.0000e+00\n",
      "Epoch 8/10\n",
      "100/100 [==============================] - 0s 390us/sample - loss: 0.0000e+00\n",
      "Epoch 9/10\n",
      "100/100 [==============================] - 0s 545us/sample - loss: 0.0000e+00\n",
      "Epoch 10/10\n",
      "100/100 [==============================] - 0s 464us/sample - loss: 0.0000e+00\n",
      "x= 0.999999285\n",
      "loss= 0\n"
     ]
    }
   ],
   "source": [
    "## 使用model.fit\n",
    "\n",
    "tf.keras.backend.clear_session()\n",
    "\n",
    "class FakeModel(tf.keras.models.Model):\n",
    "    def __init__(self,a,b,c):\n",
    "        super(FakeModel,self).__init__()\n",
    "        self.a = a\n",
    "        self.b = b\n",
    "        self.c = c\n",
    "    \n",
    "    def build(self):\n",
    "        self.x = tf.Variable(0.,name='x',dtype=tf.float32)\n",
    "        self.built = True\n",
    "    \n",
    "    def call(self,features):\n",
    "        loss = self.a*(self.x)**2+self.b*(self.x)+self.c\n",
    "        return(tf.ones_like(features)*loss)\n",
    "\n",
    "def myloss(y_true,y_pred):\n",
    "    return tf.reduce_sum(y_pred)\n",
    "\n",
    "model = FakeModel(tf.constant(1.),tf.constant(-2.),tf.constant(1.))\n",
    "\n",
    "model.build()\n",
    "model.summary()\n",
    "\n",
    "model.compile(optimizer=tf.keras.optimizers.SGD(learning_rate=0.01),loss=myloss)    \n",
    "history=model.fit(tf.zeros((100,2)),tf.ones(100),batch_size=1,epochs=10)\n",
    "\n",
    "tf.print('x=',model.x)\n",
    "tf.print('loss=',model(tf.constant(0.)))"
   ]
  },
  {
   "cell_type": "markdown",
   "metadata": {},
   "source": [
    "# 2.回调函数callbacks\n",
    "\n",
    "tf.keras的回调函数实际上是一个类，一般是在model.fit时作为参数指定，用于控制在训练过程开始或者在训练过程结束，在每个epoch训练开始或者训练结束，在每个batch训练开始或者训练结束时执行一些操作，例如收集一些日志信息，改变学习率等超参数，提前终止训练过程等等。\n",
    "\n",
    "同样地，针对model.evaluate或者model.predict也可以指定callbacks参数，用于控制在评估或预测开始或者结束时，在每个batch开始或者结束时执行一些操作，但这种用法相对少见。\n",
    "\n",
    "大部分时候，keras.callbacks子模块中定义的回调函数类已经足够使用了，如果有特定的需要，我们也可以通过对keras.callbacks.Callbacks实施子类化构造自定义的回调函数。\n",
    "\n",
    "所有回调函数都继承至 keras.callbacks.Callbacks基类，拥有params和model这两个属性。\n",
    "\n",
    "其中params 是一个dict，记录了 training parameters (eg. verbosity, batch size, number of epochs...).\n",
    "\n",
    "model即当前关联的模型的引用。\n",
    "\n",
    "此外，对于回调类中的一些方法如on_epoch_begin,on_batch_end，还会有一个输入参数logs, 提供有关当前epoch或者batch的一些信息，并能够记录计算结果，如果model.fit指定了多个回调函数类，这些logs变量将在这些回调函数类的同名函数间依顺序传递。\n",
    "\n",
    "内置回调函数:\n",
    "\n",
    "* BaseLogger： 收集每个epoch上metrics在各个batch上的平均值，对stateful_metrics参数中的带中间状态的指标直接拿最终值无需对各个batch平均，指标均值结果将添加到logs变量中。该回调函数被所有模型默认添加，且是第一个被添加的。\n",
    "\n",
    "* History： 将BaseLogger计算的各个epoch的metrics结果记录到history这个dict变量中，并作为model.fit的返回值。该回调函数被所有模型默认添加，在BaseLogger之后被添加。\n",
    "\n",
    "* EarlyStopping： 当被监控指标在设定的若干个epoch后没有提升，则提前终止训练。\n",
    "\n",
    "* TensorBoard： 为Tensorboard可视化保存日志信息。支持评估指标，计算图，模型参数等的可视化。\n",
    "\n",
    "* ModelCheckpoint： 在每个epoch后保存模型。\n",
    "\n",
    "* ReduceLROnPlateau：如果监控指标在设定的若干个epoch后没有提升，则以一定的因子减少学习率。\n",
    "\n",
    "* TerminateOnNaN：如果遇到loss为NaN，提前终止训练。\n",
    "\n",
    "* LearningRateScheduler：学习率控制器。给定学习率lr和epoch的函数关系，根据该函数关系在每个epoch前调整学习率。\n",
    "\n",
    "* CSVLogger：将每个epoch后的logs结果记录到CSV文件中。\n",
    "\n",
    "* ProgbarLogger：将每个epoch后的logs结果打印到标准输出流中。"
   ]
  },
  {
   "cell_type": "markdown",
   "metadata": {},
   "source": [
    "## 2.1 自定义回调函数\n",
    "\n",
    "可以使用callbacks.LambdaCallBack编写较为简单的回调函数,也可以通过callbacks.Callback子类编写更为复杂的回调函数逻辑."
   ]
  },
  {
   "cell_type": "code",
   "execution_count": 9,
   "metadata": {},
   "outputs": [],
   "source": [
    "import tensorflow as tf\n",
    "import numpy as np\n",
    "import pandas as pd\n",
    "from tensorflow.keras import layers,models,losses,metrics,callbacks\n",
    "import tensorflow.keras.backend as backend\n"
   ]
  },
  {
   "cell_type": "code",
   "execution_count": 10,
   "metadata": {},
   "outputs": [],
   "source": [
    "## 使用LambdaCallBack编写较为简单的 回调函数\n",
    "import json\n",
    "json_log = open('./../data/keras_log.json',mode='wt',buffering=1)\n",
    "json_logging_callback = callbacks.LambdaCallback(\n",
    "    on_epoch_end=lambda epoch,logs: json_log.write(json.dumps(dict(epoch=epoch,**alogs))+'\\n'),\n",
    "    on_train_end = lambda logs:json_log.close()\n",
    ")"
   ]
  },
  {
   "cell_type": "code",
   "execution_count": 11,
   "metadata": {},
   "outputs": [],
   "source": [
    "## 自定义\n",
    "class LearningRateScheduler(callbacks.Callback):\n",
    "    \n",
    "    def __int__(self, schedule, verbose=0):\n",
    "        super(LearningRateScheduler,self).__int__()\n",
    "        self.schedule = schedule\n",
    "        self.verbose = verbose\n",
    "    \n",
    "    def on_epoch_begin(self, epoch, logs=None):\n",
    "        if not hasattr(self.model.optimizer,'lr'):\n",
    "            raise ValueError('Optimizer must have a \"lr\" attribure.')\n",
    "        try:\n",
    "            lr = float(backend.get_value(self.mdoel.optimizer.lr))\n",
    "            lr = self.schedule(epoch,lr)\n",
    "        except:\n",
    "            lr = self.schedule(epoch)\n",
    "        \n",
    "        if not isinstance(lr,(tf.Tensor,float, np.float32, np.float64)):\n",
    "            raise ValueError('The output of the \"schedule\" function should be float.')\n",
    "        \n",
    "        if isinstance(lr, ops.Tensor) and not lr.dtype.is_floating:\n",
    "            raise ValueError('The dtype of Tensor should be float.')\n",
    "        \n",
    "        backend.set_value(self.model.optimizer.lr, backend.get_value(lr))\n",
    "        \n",
    "        if self.verbose > 0:\n",
    "            print('\\nEpoch %05d: LearningRateScheduler reducing learning rate to %s.' %(epoch+1,lr))\n",
    "        \n",
    "    def on_epoch_end(self, epoch, logs=None):\n",
    "        logs = logs or {}\n",
    "        logs['lr'] = backend.get_value(self.model.optimizer.lr)\n"
   ]
  },
  {
   "cell_type": "code",
   "execution_count": null,
   "metadata": {},
   "outputs": [],
   "source": []
  }
 ],
 "metadata": {
  "kernelspec": {
   "display_name": "Python 3",
   "language": "python",
   "name": "python3"
  },
  "language_info": {
   "codemirror_mode": {
    "name": "ipython",
    "version": 3
   },
   "file_extension": ".py",
   "mimetype": "text/x-python",
   "name": "python",
   "nbconvert_exporter": "python",
   "pygments_lexer": "ipython3",
   "version": "3.7.0"
  }
 },
 "nbformat": 4,
 "nbformat_minor": 2
}
