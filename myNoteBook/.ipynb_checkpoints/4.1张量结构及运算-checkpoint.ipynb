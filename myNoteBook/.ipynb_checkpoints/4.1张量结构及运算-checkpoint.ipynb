{
 "cells": [
  {
   "cell_type": "markdown",
   "metadata": {},
   "source": [
    "# 4.1张量的结构操作\n",
    "\n",
    "张量的结构操作主要有：张量的创建，索引切片，维度变换，合并分割\n",
    "\n",
    "张量的数学运算主要有：标量运算，向量运算，矩阵运算，以及广播机制等．"
   ]
  },
  {
   "cell_type": "markdown",
   "metadata": {},
   "source": [
    "### 一．张量创建\n",
    "\n",
    "与numpy创建array的方法很像"
   ]
  },
  {
   "cell_type": "code",
   "execution_count": 1,
   "metadata": {},
   "outputs": [],
   "source": [
    "import tensorflow as tf\n",
    "import numpy as np\n",
    "\n",
    "from IPython.core.interactiveshell import InteractiveShell\n",
    "InteractiveShell.ast_node_interactivity='all'"
   ]
  },
  {
   "cell_type": "code",
   "execution_count": 2,
   "metadata": {},
   "outputs": [
    {
     "name": "stdout",
     "output_type": "stream",
     "text": [
      "[1 2 2]\n"
     ]
    }
   ],
   "source": [
    "a = tf.constant([1,2,2],dtype=tf.float32)\n",
    "tf.print(a)"
   ]
  },
  {
   "cell_type": "code",
   "execution_count": 3,
   "metadata": {},
   "outputs": [
    {
     "name": "stdout",
     "output_type": "stream",
     "text": [
      "[1 3 5 7 9]\n"
     ]
    }
   ],
   "source": [
    "b = tf.range(1,10,delta=2)\n",
    "tf.print(b)"
   ]
  },
  {
   "cell_type": "code",
   "execution_count": 4,
   "metadata": {},
   "outputs": [
    {
     "name": "stdout",
     "output_type": "stream",
     "text": [
      "[0 0.697777808 1.39555562 ... 4.88444471 5.58222246 6.28]\n"
     ]
    }
   ],
   "source": [
    "c = tf.linspace(0.,2*3.14,10)\n",
    "tf.print(c)"
   ]
  },
  {
   "cell_type": "code",
   "execution_count": 5,
   "metadata": {},
   "outputs": [
    {
     "name": "stdout",
     "output_type": "stream",
     "text": [
      "[[0 0 0]\n",
      " [0 0 0]\n",
      " [0 0 0]]\n"
     ]
    }
   ],
   "source": [
    "d = tf.zeros([3,3])\n",
    "tf.print(d)"
   ]
  },
  {
   "cell_type": "code",
   "execution_count": 6,
   "metadata": {},
   "outputs": [
    {
     "name": "stdout",
     "output_type": "stream",
     "text": [
      "[[1 1 1]\n",
      " [1 1 1]\n",
      " [1 1 1]]\n",
      "[[1 1 1]\n",
      " [1 1 1]\n",
      " [1 1 1]] [[0 0 0]\n",
      " [0 0 0]\n",
      " [0 0 0]]\n"
     ]
    },
    {
     "data": {
      "text/plain": [
       "(None, None)"
      ]
     },
     "execution_count": 6,
     "metadata": {},
     "output_type": "execute_result"
    }
   ],
   "source": [
    "a = tf.ones([3,3])\n",
    "b = tf.ones_like(a,dtype=tf.float32)\n",
    "c = tf.zeros_like(b,dtype=tf.float16)\n",
    "tf.print(a),tf.print(b,c)"
   ]
  },
  {
   "cell_type": "code",
   "execution_count": 7,
   "metadata": {},
   "outputs": [
    {
     "name": "stdout",
     "output_type": "stream",
     "text": [
      "[[5 5]\n",
      " [5 5]\n",
      " [5 5]]\n"
     ]
    }
   ],
   "source": [
    "b = tf.fill([3,2],5)\n",
    "tf.print(b)"
   ]
  },
  {
   "cell_type": "code",
   "execution_count": 8,
   "metadata": {},
   "outputs": [
    {
     "name": "stdout",
     "output_type": "stream",
     "text": [
      "[7.86967039 9.76694584 1.80886149 1.70957327 8.08133507]\n"
     ]
    }
   ],
   "source": [
    "## 均匀随机分布\n",
    "tf.random.set_seed(2020)\n",
    "a = tf.random.uniform([5],minval=0,maxval=10)\n",
    "tf.print(a)"
   ]
  },
  {
   "cell_type": "code",
   "execution_count": 9,
   "metadata": {},
   "outputs": [
    {
     "name": "stdout",
     "output_type": "stream",
     "text": [
      "[[0.384146124 -0.61593008 -0.545321405]\n",
      " [-0.817522228 1.4578414 -1.65560007]\n",
      " [0.245929077 0.279045701 -1.74127507]]\n"
     ]
    }
   ],
   "source": [
    "## 正态随机分布\n",
    "b = tf.random.normal([3,3],mean=0.,stddev=1.)\n",
    "tf.print(b)"
   ]
  },
  {
   "cell_type": "code",
   "execution_count": 10,
   "metadata": {},
   "outputs": [
    {
     "name": "stdout",
     "output_type": "stream",
     "text": [
      "[[1.26513696 -0.0683450252 -0.182903275]\n",
      " [0.362691194 -0.534415722 0.72400105]\n",
      " [-0.859625757 -0.0317403711 -0.125741765]]\n"
     ]
    }
   ],
   "source": [
    "## 正态随机分布，剔除２倍方差以外数据重新生成\n",
    "ｃ = tf.random.truncated_normal([3,3],mean=0.,stddev=1.,dtype=tf.float32)\n",
    "tf.print(c)"
   ]
  },
  {
   "cell_type": "code",
   "execution_count": 11,
   "metadata": {},
   "outputs": [
    {
     "name": "stdout",
     "output_type": "stream",
     "text": [
      "[[1 0 0]\n",
      " [0 1 0]\n",
      " [0 0 1]]\n",
      "[[1 0 0]\n",
      " [0 2 0]\n",
      " [0 0 3]]\n"
     ]
    }
   ],
   "source": [
    "I = tf.eye(3,3)\n",
    "tf.print(I)\n",
    "\n",
    "t = tf.linalg.diag([1,2,3])\n",
    "tf.print(t)"
   ]
  },
  {
   "cell_type": "markdown",
   "metadata": {},
   "source": [
    "## 二．索引切片\n",
    "\n",
    "张量的索引方式与numpy几乎是一样的，切片时支持缺省的参数和省略号，对于tf.Variable，可以通过索引和切片对部分元素进行修改．\n",
    "\n",
    "对于提取张量的连续子区域，可以使用tf.slice.\n",
    "\n",
    "对于不规则的切片提取，可以使用tf.gather,th.gather_nd,tf.boolean_mask，tf.boolean_mask最为强大，其可以实现tf.gather,th.gather_nd的功能，并且tf.boolean_mask还可以实现布尔索引．\n",
    "\n",
    "如果要通过修改张量的某些元素得到一个新的张量，可以使用tf.where,tf.scatter_nd"
   ]
  },
  {
   "cell_type": "code",
   "execution_count": 12,
   "metadata": {},
   "outputs": [
    {
     "name": "stdout",
     "output_type": "stream",
     "text": [
      "[[6 9 0 3 6]\n",
      " [5 0 3 7 3]\n",
      " [8 1 8 6 6]\n",
      " [2 6 9 2 1]\n",
      " [0 0 3 3 5]]\n"
     ]
    }
   ],
   "source": [
    "t = tf.random.uniform([5,5],minval=0,maxval=10,dtype=tf.int32)\n",
    "tf.print(t)"
   ]
  },
  {
   "cell_type": "code",
   "execution_count": 13,
   "metadata": {},
   "outputs": [
    {
     "name": "stdout",
     "output_type": "stream",
     "text": [
      "[6 9 0 3 6] [0 0 3 3 5]\n",
      "7\n",
      "[[5 0 3 7 3]\n",
      " [8 1 8 6 6]\n",
      " [2 6 9 2 1]]\n",
      "[[5 0 3 7 3]\n",
      " [8 1 8 6 6]\n",
      " [2 6 9 2 1]]\n",
      "[[5 3]\n",
      " [8 8]\n",
      " [2 9]\n",
      " [0 3]]\n"
     ]
    }
   ],
   "source": [
    "# 首末行\n",
    "tf.print(t[0],t[-1])\n",
    "#　第一行第三列\n",
    "tf.print(t[1,3])\n",
    "#　第一行至第三行\n",
    "tf.print(t[1:4,:])\n",
    "tf.print(tf.slice(t,[1,0],[3,5])) ## tf.slice(input,input_vector,size_vector)\n",
    "# 第一行至最后一行，第０列至最后一列每隔两列取一列\n",
    "tf.print(t[1:,:-1:2])"
   ]
  },
  {
   "cell_type": "code",
   "execution_count": 14,
   "metadata": {},
   "outputs": [
    {
     "name": "stdout",
     "output_type": "stream",
     "text": [
      "[[1 2]\n",
      " [3 4]]\n"
     ]
    },
    {
     "data": {
      "text/plain": [
       "<tf.Variable 'UnreadVariable' shape=(2, 2) dtype=float32, numpy=\n",
       "array([[1., 2.],\n",
       "       [0., 0.]], dtype=float32)>"
      ]
     },
     "execution_count": 14,
     "metadata": {},
     "output_type": "execute_result"
    },
    {
     "name": "stdout",
     "output_type": "stream",
     "text": [
      "[[1 2]\n",
      " [0 0]]\n"
     ]
    }
   ],
   "source": [
    "## 对于变量来说，还可以使用索引和切片修改部分元素\n",
    "x = tf.Variable([[1,2],[3,4]],dtype=tf.float32)\n",
    "tf.print(x)\n",
    "x[1,:].assign(tf.constant([0.,0.]))\n",
    "tf.print(x)"
   ]
  },
  {
   "cell_type": "code",
   "execution_count": 15,
   "metadata": {},
   "outputs": [
    {
     "name": "stdout",
     "output_type": "stream",
     "text": [
      "[[[2 7 0]\n",
      "  [3 2 6]\n",
      "  [0 8 4]]\n",
      "\n",
      " [[8 6 3]\n",
      "  [6 6 9]\n",
      "  [0 5 2]]\n",
      "\n",
      " [[1 2 3]\n",
      "  [1 2 9]\n",
      "  [9 5 7]]]\n"
     ]
    }
   ],
   "source": [
    "a = tf.random.uniform([3,3,3],minval=0,maxval=10,dtype=tf.int32)\n",
    "tf.print(a)"
   ]
  },
  {
   "cell_type": "code",
   "execution_count": 16,
   "metadata": {},
   "outputs": [
    {
     "name": "stdout",
     "output_type": "stream",
     "text": [
      "[[7 2 8]\n",
      " [6 6 5]\n",
      " [2 2 5]]\n",
      "[[7 2 8]\n",
      " [6 6 5]\n",
      " [2 2 5]]\n"
     ]
    }
   ],
   "source": [
    "## 省略号可以表示多个冒号\n",
    "tf.print(a[...,1])\n",
    "tf.print(a[:,:,1])"
   ]
  },
  {
   "cell_type": "code",
   "execution_count": 17,
   "metadata": {},
   "outputs": [
    {
     "name": "stdout",
     "output_type": "stream",
     "text": [
      "[[[24 36 9 ... 82 42 13]\n",
      "  [28 28 76 ... 71 83 29]\n",
      "  [96 7 78 ... 73 53 8]\n",
      "  ...\n",
      "  [15 82 84 ... 5 27 49]\n",
      "  [13 5 7 ... 15 39 86]\n",
      "  [45 60 10 ... 3 42 10]]\n",
      "\n",
      " [[19 84 80 ... 80 92 77]\n",
      "  [52 83 40 ... 92 83 45]\n",
      "  [65 40 67 ... 70 84 29]\n",
      "  ...\n",
      "  [63 9 65 ... 3 50 27]\n",
      "  [47 7 59 ... 56 94 17]\n",
      "  [71 57 8 ... 48 17 70]]\n",
      "\n",
      " [[35 89 12 ... 52 13 88]\n",
      "  [44 66 97 ... 32 33 29]\n",
      "  [2 78 93 ... 84 52 24]\n",
      "  ...\n",
      "  [40 67 28 ... 35 39 58]\n",
      "  [5 56 67 ... 63 86 53]\n",
      "  [83 47 15 ... 79 70 36]]\n",
      "\n",
      " [[20 29 23 ... 95 45 59]\n",
      "  [38 86 19 ... 95 86 95]\n",
      "  [8 81 32 ... 4 89 45]\n",
      "  ...\n",
      "  [52 37 59 ... 64 98 79]\n",
      "  [2 47 96 ... 60 6 11]\n",
      "  [41 27 30 ... 83 10 55]]]\n"
     ]
    }
   ],
   "source": [
    "## 对于不规则切片\n",
    "scores = tf.random.uniform([4,10,7],minval=0,maxval=100,dtype=tf.int32)\n",
    "tf.print(scores)"
   ]
  },
  {
   "cell_type": "code",
   "execution_count": 18,
   "metadata": {},
   "outputs": [
    {
     "name": "stdout",
     "output_type": "stream",
     "text": [
      "[[[24 36 9 ... 82 42 13]\n",
      "  [14 94 2 ... 19 96 63]\n",
      "  [45 60 10 ... 3 42 10]]\n",
      "\n",
      " [[19 84 80 ... 80 92 77]\n",
      "  [68 75 65 ... 72 38 87]\n",
      "  [71 57 8 ... 48 17 70]]\n",
      "\n",
      " [[35 89 12 ... 52 13 88]\n",
      "  [90 67 2 ... 87 55 78]\n",
      "  [83 47 15 ... 79 70 36]]\n",
      "\n",
      " [[20 29 23 ... 95 45 59]\n",
      "  [86 35 5 ... 2 42 85]\n",
      "  [41 27 30 ... 83 10 55]]]\n"
     ]
    }
   ],
   "source": [
    "## 抽取每个班级第０，５，９个学生的全部成绩\n",
    "tf.print(tf.gather(scores,[0,5,9],axis=1))"
   ]
  },
  {
   "cell_type": "code",
   "execution_count": 20,
   "metadata": {},
   "outputs": [
    {
     "name": "stdout",
     "output_type": "stream",
     "text": [
      "[[[36 16 13]\n",
      "  [94 74 63]\n",
      "  [60 63 10]]\n",
      "\n",
      " [[84 98 77]\n",
      "  [75 94 87]\n",
      "  [57 25 70]]\n",
      "\n",
      " [[89 75 88]\n",
      "  [67 23 78]\n",
      "  [47 71 36]]\n",
      "\n",
      " [[29 11 59]\n",
      "  [35 90 85]\n",
      "  [27 71 55]]]\n"
     ]
    }
   ],
   "source": [
    "## 抽取每个班级第０个，５个，９个学生的第１，３，６门课程成绩\n",
    "tf.print(tf.gather(tf.gather(scores,[0,5,9],axis=1),[1,3,6],axis=2))"
   ]
  },
  {
   "cell_type": "code",
   "execution_count": 22,
   "metadata": {},
   "outputs": [
    {
     "name": "stdout",
     "output_type": "stream",
     "text": [
      "[[24 36 9 ... 82 42 13]\n",
      " [90 1 14 ... 46 28 26]\n",
      " [45 76 39 ... 10 83 35]]\n",
      "[24 90]\n"
     ]
    }
   ],
   "source": [
    "## 抽取第０个班级第０个学生，第二个班级第４个学生，第３个班级第６个学生的全部成绩\n",
    "## indices的长度为采样样本的个数，每个元素为采样位置的坐标\n",
    "tf.print(tf.gather_nd(scores,indices=[(0,0),(2,4),(3,6)]))\n",
    "tf.print(tf.gather_nd(scores,indices=[(0,0,0),(2,4,0)]))"
   ]
  },
  {
   "cell_type": "markdown",
   "metadata": {},
   "source": [
    "以上gather和gather_nd也可以使用boolean_mask来实现"
   ]
  },
  {
   "cell_type": "code",
   "execution_count": 24,
   "metadata": {},
   "outputs": [
    {
     "name": "stdout",
     "output_type": "stream",
     "text": [
      "[[[24 36 9 ... 82 42 13]\n",
      "  [14 94 2 ... 19 96 63]\n",
      "  [45 60 10 ... 3 42 10]]\n",
      "\n",
      " [[19 84 80 ... 80 92 77]\n",
      "  [68 75 65 ... 72 38 87]\n",
      "  [71 57 8 ... 48 17 70]]\n",
      "\n",
      " [[35 89 12 ... 52 13 88]\n",
      "  [90 67 2 ... 87 55 78]\n",
      "  [83 47 15 ... 79 70 36]]\n",
      "\n",
      " [[20 29 23 ... 95 45 59]\n",
      "  [86 35 5 ... 2 42 85]\n",
      "  [41 27 30 ... 83 10 55]]]\n"
     ]
    }
   ],
   "source": [
    "## 抽取每个班级第０，５，９个学生的全部成绩\n",
    "tf.print(tf.boolean_mask(scores,[True,False,False,False,False,True,False,False,False,True],axis=1))"
   ]
  },
  {
   "cell_type": "code",
   "execution_count": 27,
   "metadata": {},
   "outputs": [
    {
     "name": "stdout",
     "output_type": "stream",
     "text": [
      "[[24 36 9 ... 82 42 13]\n",
      " [90 1 14 ... 46 28 26]\n",
      " [45 76 39 ... 10 83 35]]\n"
     ]
    }
   ],
   "source": [
    "#抽取第0个班级第0个学生，第2个班级的第4个学生，第3个班级的第6个学生的全部成绩\n",
    "s = tf.boolean_mask(scores,\n",
    "    [[True,False,False,False,False,False,False,False,False,False],　##axis=1 第０个班级\n",
    "     [False,False,False,False,False,False,False,False,False,False],\n",
    "     [False,False,False,False,True,False,False,False,False,False],\n",
    "     [False,False,False,False,False,False,True,False,False,False]])\n",
    "tf.print(s)"
   ]
  },
  {
   "cell_type": "markdown",
   "metadata": {},
   "source": [
    "axis给定的前提下，在指定轴上操作，剩余维度取默认；也就是说，给出轴，相当于简略写法，每一个axis的操作是一致的，True代表选择上该行．"
   ]
  },
  {
   "cell_type": "code",
   "execution_count": 28,
   "metadata": {},
   "outputs": [
    {
     "name": "stdout",
     "output_type": "stream",
     "text": [
      "[[-1 1 -1]\n",
      " [2 2 -2]\n",
      " [3 -3 3]] \n",
      "\n",
      "[-1 -1 -2 -3] \n",
      "\n",
      "[-1 -1 -2 -3]\n"
     ]
    }
   ],
   "source": [
    "## 利用tf.boolean_mask可以实现布尔索引\n",
    "##　找出矩阵中小于０的元素\n",
    "c = tf.constant([[-1,1,-1],[2,2,-2],[3,-3,3]],dtype=tf.float32)\n",
    "tf.print(c,'\\n')\n",
    "\n",
    "tf.print(tf.boolean_mask(c,c<0),'\\n')\n",
    "tf.print(c[c<0])"
   ]
  },
  {
   "cell_type": "code",
   "execution_count": null,
   "metadata": {},
   "outputs": [],
   "source": []
  },
  {
   "cell_type": "markdown",
   "metadata": {},
   "source": [
    "以上方法可以提取张量的部分元素，但是不可以更改张量获取到新的张量，如果要获取到新的张量，可以使用tf.where和tf.scatter_nd.\n",
    "\n",
    "tf.where可以理解为张量的if版本，此外它还可以用于找到满足条件的所有元素的位置坐标．\n",
    "\n",
    "tf.scatter_nd的作用和tf.gather_nd相反，tf.scatter_nd可以将某些值插入到一个给定shape的全０张量的指定位置处．"
   ]
  },
  {
   "cell_type": "code",
   "execution_count": 29,
   "metadata": {},
   "outputs": [
    {
     "name": "stdout",
     "output_type": "stream",
     "text": [
      "[[nan 1 nan]\n",
      " [2 2 nan]\n",
      " [3 nan 3]]\n"
     ]
    }
   ],
   "source": [
    "## 找到张量小于０的元素，将其转换为np.nan得到新的张量，与np.where作用类似\n",
    "d = tf.where(c <0,tf.fill(c.shape,np.nan),c)\n",
    "tf.print(d)"
   ]
  },
  {
   "cell_type": "code",
   "execution_count": 30,
   "metadata": {},
   "outputs": [
    {
     "name": "stdout",
     "output_type": "stream",
     "text": [
      "[[0 0]\n",
      " [0 2]\n",
      " [1 2]\n",
      " [2 1]]\n"
     ]
    }
   ],
   "source": [
    "## 如果where只有一个参数，将返回所有满足条件的位置坐标\n",
    "tf.print(tf.where(c<0))"
   ]
  },
  {
   "cell_type": "code",
   "execution_count": 34,
   "metadata": {},
   "outputs": [
    {
     "name": "stdout",
     "output_type": "stream",
     "text": [
      "[[-1 0 0]\n",
      " [0 0 0]\n",
      " [0 -3 0]]\n"
     ]
    }
   ],
   "source": [
    "nd = tf.scatter_nd([[0,0],[2,1]],[c[0,0],c[2,1]],c.shape)##将某些位置的元素替换为输入的元素(参数２)，其余元素均为0\n",
    "tf.print(nd)"
   ]
  },
  {
   "cell_type": "code",
   "execution_count": 35,
   "metadata": {},
   "outputs": [
    {
     "name": "stdout",
     "output_type": "stream",
     "text": [
      "[[0 1 -1]\n",
      " [2 2 -2]\n",
      " [3 0 3]]\n"
     ]
    }
   ],
   "source": [
    "## 将张量的某些位置替换为０\n",
    "tf.print(c - nd)"
   ]
  },
  {
   "cell_type": "code",
   "execution_count": 36,
   "metadata": {},
   "outputs": [
    {
     "data": {
      "text/plain": [
       "<tf.Tensor: shape=(3, 3), dtype=float32, numpy=\n",
       "array([[-1.,  0., -1.],\n",
       "       [ 0.,  0., -2.],\n",
       "       [ 0., -3.,  0.]], dtype=float32)>"
      ]
     },
     "execution_count": 36,
     "metadata": {},
     "output_type": "execute_result"
    }
   ],
   "source": [
    "## 将满足某条件的位置保留，其余设置为０\n",
    "indices = tf.where(c<0)\n",
    "tf.scatter_nd(indices,tf.gather_nd(c,indices),c.shape)"
   ]
  },
  {
   "cell_type": "markdown",
   "metadata": {},
   "source": [
    "## 三．维度变换\n",
    "\n",
    "tf.reshape 改变张量形状，但是本质上不会改变张量元素的存储顺序，所以操作上会非常迅速，并且是可逆的．张量在内存是线性存储的，同一个层级中的相邻元素的物理位置也相邻．\n",
    "\n",
    "tf.squeeze　减少维度\n",
    "\n",
    "tf.expand_dims　增加维度\n",
    "\n",
    "tf.transpose 交换维度"
   ]
  },
  {
   "cell_type": "code",
   "execution_count": 37,
   "metadata": {},
   "outputs": [
    {
     "name": "stdout",
     "output_type": "stream",
     "text": [
      "TensorShape([1, 3, 3, 2])\n",
      "[[[[1 191]\n",
      "   [13 124]\n",
      "   [45 10]]\n",
      "\n",
      "  [[127 132]\n",
      "   [208 233]\n",
      "   [123 120]]\n",
      "\n",
      "  [[165 216]\n",
      "   [170 178]\n",
      "   [161 118]]]]\n"
     ]
    }
   ],
   "source": [
    "a = tf.random.uniform(shape=[1,3,3,2],minval=0,maxval=255,dtype=tf.int32)\n",
    "tf.print(a.shape)\n",
    "tf.print(a)"
   ]
  },
  {
   "cell_type": "code",
   "execution_count": 39,
   "metadata": {},
   "outputs": [
    {
     "name": "stdout",
     "output_type": "stream",
     "text": [
      "TensorShape([3, 6])\n",
      "[[1 191 13 124 45 10]\n",
      " [127 132 208 233 123 120]\n",
      " [165 216 170 178 161 118]]\n"
     ]
    }
   ],
   "source": [
    "b = tf.reshape(a,[3,6])\n",
    "tf.print(b.shape)\n",
    "tf.print(b)"
   ]
  },
  {
   "cell_type": "code",
   "execution_count": 40,
   "metadata": {},
   "outputs": [
    {
     "name": "stdout",
     "output_type": "stream",
     "text": [
      "TensorShape([3, 3, 2])\n",
      "[[[1 191]\n",
      "  [13 124]\n",
      "  [45 10]]\n",
      "\n",
      " [[127 132]\n",
      "  [208 233]\n",
      "  [123 120]]\n",
      "\n",
      " [[165 216]\n",
      "  [170 178]\n",
      "  [161 118]]]\n"
     ]
    }
   ],
   "source": [
    "s = tf.squeeze(a)\n",
    "tf.print(s.shape)\n",
    "tf.print(s)"
   ]
  },
  {
   "cell_type": "code",
   "execution_count": 41,
   "metadata": {},
   "outputs": [
    {
     "name": "stdout",
     "output_type": "stream",
     "text": [
      "[[[[1 191]\n",
      "   [13 124]\n",
      "   [45 10]]\n",
      "\n",
      "  [[127 132]\n",
      "   [208 233]\n",
      "   [123 120]]\n",
      "\n",
      "  [[165 216]\n",
      "   [170 178]\n",
      "   [161 118]]]]\n"
     ]
    }
   ],
   "source": [
    "## 在第０维插入长度为１的一个维度\n",
    "d = tf.expand_dims(s,axis=0)\n",
    "tf.print(d)"
   ]
  },
  {
   "cell_type": "markdown",
   "metadata": {},
   "source": [
    "tf.transpose 可以交换张量的维度，与tf.reshpe不同，它会改变张量元素的存储顺序．常用于图片存储格式的交换上．"
   ]
  },
  {
   "cell_type": "code",
   "execution_count": 42,
   "metadata": {},
   "outputs": [
    {
     "name": "stdout",
     "output_type": "stream",
     "text": [
      "TensorShape([100, 600, 600, 4])\n",
      "TensorShape([4, 600, 600, 100])\n"
     ]
    }
   ],
   "source": [
    "a = tf.random.uniform(shape=[100,600,600,4],minval=0,maxval=255,dtype=tf.int32)\n",
    "tf.print(a.shape)\n",
    "\n",
    "s = tf.transpose(a,perm=[3,1,2,0])\n",
    "tf.print(s.shape)"
   ]
  },
  {
   "cell_type": "markdown",
   "metadata": {},
   "source": [
    "## 四.合并分割\n",
    "\n",
    "和numpy类似，可以使用tf.stack和tf.concat对多个张量进行合并，可以使用tf.split把一个张量分割长多个张量"
   ]
  },
  {
   "cell_type": "code",
   "execution_count": 44,
   "metadata": {},
   "outputs": [
    {
     "data": {
      "text/plain": [
       "<tf.Tensor: shape=(3, 2), dtype=float32, numpy=\n",
       "array([[1., 2.],\n",
       "       [3., 4.],\n",
       "       [5., 6.]], dtype=float32)>"
      ]
     },
     "execution_count": 44,
     "metadata": {},
     "output_type": "execute_result"
    }
   ],
   "source": [
    "a = tf.constant([[1.,2.]])\n",
    "b = tf.constant([[3.,4.]])\n",
    "c = tf.constant([[5.,6.]])\n",
    "tf.concat([a,b,c],axis=0)"
   ]
  },
  {
   "cell_type": "code",
   "execution_count": 45,
   "metadata": {},
   "outputs": [
    {
     "data": {
      "text/plain": [
       "<tf.Tensor: shape=(1, 6), dtype=float32, numpy=array([[1., 2., 3., 4., 5., 6.]], dtype=float32)>"
      ]
     },
     "execution_count": 45,
     "metadata": {},
     "output_type": "execute_result"
    }
   ],
   "source": [
    "tf.concat([a,b,c],axis=1)"
   ]
  },
  {
   "cell_type": "markdown",
   "metadata": {},
   "source": [
    "tf.stack会增加一个维度"
   ]
  },
  {
   "cell_type": "code",
   "execution_count": 46,
   "metadata": {},
   "outputs": [
    {
     "data": {
      "text/plain": [
       "<tf.Tensor: shape=(3, 1, 2), dtype=float32, numpy=\n",
       "array([[[1., 2.]],\n",
       "\n",
       "       [[3., 4.]],\n",
       "\n",
       "       [[5., 6.]]], dtype=float32)>"
      ]
     },
     "execution_count": 46,
     "metadata": {},
     "output_type": "execute_result"
    }
   ],
   "source": [
    "tf.stack([a,b,c],axis=0)"
   ]
  },
  {
   "cell_type": "code",
   "execution_count": 47,
   "metadata": {},
   "outputs": [
    {
     "data": {
      "text/plain": [
       "<tf.Tensor: shape=(1, 3, 2), dtype=float32, numpy=\n",
       "array([[[1., 2.],\n",
       "        [3., 4.],\n",
       "        [5., 6.]]], dtype=float32)>"
      ]
     },
     "execution_count": 47,
     "metadata": {},
     "output_type": "execute_result"
    }
   ],
   "source": [
    "tf.stack([a,b,c],axis=1)"
   ]
  },
  {
   "cell_type": "code",
   "execution_count": 48,
   "metadata": {},
   "outputs": [],
   "source": [
    "a = tf.constant([[1.0,2.0],[3.0,4.0]])\n",
    "b = tf.constant([[5.0,6.0],[7.0,8.0]])\n",
    "c = tf.constant([[9.0,10.0],[11.0,12.0]])\n",
    "\n",
    "c = tf.concat([a,b,c],axis = 0)"
   ]
  },
  {
   "cell_type": "markdown",
   "metadata": {},
   "source": [
    "tf.split是tf.concat的逆运算，可以指定分割分数平均分割，也可以通过指定每份的记录数量进行分割"
   ]
  },
  {
   "cell_type": "code",
   "execution_count": 49,
   "metadata": {},
   "outputs": [
    {
     "data": {
      "text/plain": [
       "[<tf.Tensor: shape=(2, 2), dtype=float32, numpy=\n",
       " array([[1., 2.],\n",
       "        [3., 4.]], dtype=float32)>,\n",
       " <tf.Tensor: shape=(2, 2), dtype=float32, numpy=\n",
       " array([[5., 6.],\n",
       "        [7., 8.]], dtype=float32)>,\n",
       " <tf.Tensor: shape=(2, 2), dtype=float32, numpy=\n",
       " array([[ 9., 10.],\n",
       "        [11., 12.]], dtype=float32)>]"
      ]
     },
     "execution_count": 49,
     "metadata": {},
     "output_type": "execute_result"
    }
   ],
   "source": [
    "tf.split(c,3,axis=0)"
   ]
  },
  {
   "cell_type": "code",
   "execution_count": 50,
   "metadata": {},
   "outputs": [
    {
     "data": {
      "text/plain": [
       "<tf.Tensor: shape=(6, 2), dtype=float32, numpy=\n",
       "array([[ 1.,  2.],\n",
       "       [ 3.,  4.],\n",
       "       [ 5.,  6.],\n",
       "       [ 7.,  8.],\n",
       "       [ 9., 10.],\n",
       "       [11., 12.]], dtype=float32)>"
      ]
     },
     "execution_count": 50,
     "metadata": {},
     "output_type": "execute_result"
    }
   ],
   "source": [
    "c"
   ]
  },
  {
   "cell_type": "code",
   "execution_count": 52,
   "metadata": {},
   "outputs": [
    {
     "data": {
      "text/plain": [
       "[<tf.Tensor: shape=(6, 1), dtype=float32, numpy=\n",
       " array([[ 1.],\n",
       "        [ 3.],\n",
       "        [ 5.],\n",
       "        [ 7.],\n",
       "        [ 9.],\n",
       "        [11.]], dtype=float32)>,\n",
       " <tf.Tensor: shape=(6, 1), dtype=float32, numpy=\n",
       " array([[ 2.],\n",
       "        [ 4.],\n",
       "        [ 6.],\n",
       "        [ 8.],\n",
       "        [10.],\n",
       "        [12.]], dtype=float32)>]"
      ]
     },
     "execution_count": 52,
     "metadata": {},
     "output_type": "execute_result"
    }
   ],
   "source": [
    "tf.split(c,2,axis=1)"
   ]
  },
  {
   "cell_type": "code",
   "execution_count": 53,
   "metadata": {},
   "outputs": [
    {
     "data": {
      "text/plain": [
       "[<tf.Tensor: shape=(2, 2), dtype=float32, numpy=\n",
       " array([[1., 2.],\n",
       "        [3., 4.]], dtype=float32)>,\n",
       " <tf.Tensor: shape=(2, 2), dtype=float32, numpy=\n",
       " array([[5., 6.],\n",
       "        [7., 8.]], dtype=float32)>,\n",
       " <tf.Tensor: shape=(2, 2), dtype=float32, numpy=\n",
       " array([[ 9., 10.],\n",
       "        [11., 12.]], dtype=float32)>]"
      ]
     },
     "execution_count": 53,
     "metadata": {},
     "output_type": "execute_result"
    }
   ],
   "source": [
    "## 每份的记录数量\n",
    "tf.split(c,[2,2,2],axis=0)"
   ]
  },
  {
   "cell_type": "markdown",
   "metadata": {},
   "source": [
    "# 4.2张量的运算"
   ]
  },
  {
   "cell_type": "markdown",
   "metadata": {},
   "source": [
    "## 一．标量运算\n",
    "\n",
    "加减乘除，三角函数，指数，对数，逻辑比较等对张量逐一实施元素运算，有些标量还对常用的数学运算符进行重载，并且支持了numpy的广播机制.\n",
    "\n",
    "多数都在tf.math模块下"
   ]
  },
  {
   "cell_type": "code",
   "execution_count": 58,
   "metadata": {},
   "outputs": [
    {
     "name": "stdout",
     "output_type": "stream",
     "text": [
      "[[6 8]\n",
      " [4 12]]\n",
      "[[-4 -4]\n",
      " [-10 -4]]\n",
      "[[5 12]\n",
      " [-21 32]]\n",
      "[[0.2 0.333333343]\n",
      " [-0.428571433 0.5]]\n",
      "[[1 4]\n",
      " [9 16]]\n",
      "[[1 1.41421354]\n",
      " [-nan 2]]\n",
      "[[1 1.41421354]\n",
      " [-nan 2]]\n"
     ]
    }
   ],
   "source": [
    "a = tf.constant([[1.,2],[-3,4.]])\n",
    "b = tf.constant([[5.,6],[7.,8.]])\n",
    "##　运算符重载\n",
    "tf.print(a + b)\n",
    "tf.print(a - b)\n",
    "tf.print(a * b)\n",
    "tf.print(a / b)\n",
    "tf.print(a **2)\n",
    "tf.print(a **(0.5))\n",
    "tf.print(tf.sqrt(a))"
   ]
  },
  {
   "cell_type": "code",
   "execution_count": 55,
   "metadata": {},
   "outputs": [
    {
     "data": {
      "text/plain": [
       "<tf.Tensor: shape=(2, 2), dtype=float32, numpy=\n",
       "array([[ 0.,  0.],\n",
       "       [-1.,  1.]], dtype=float32)>"
      ]
     },
     "execution_count": 55,
     "metadata": {},
     "output_type": "execute_result"
    },
    {
     "data": {
      "text/plain": [
       "<tf.Tensor: shape=(2, 2), dtype=float32, numpy=\n",
       "array([[ 1.,  2.],\n",
       "       [-0.,  1.]], dtype=float32)>"
      ]
     },
     "execution_count": 55,
     "metadata": {},
     "output_type": "execute_result"
    }
   ],
   "source": [
    "a // 3\n",
    "a % 3"
   ]
  },
  {
   "cell_type": "code",
   "execution_count": 57,
   "metadata": {},
   "outputs": [
    {
     "data": {
      "text/plain": [
       "<tf.Tensor: shape=(2, 2), dtype=bool, numpy=\n",
       "array([[False,  True],\n",
       "       [False,  True]])>"
      ]
     },
     "execution_count": 57,
     "metadata": {},
     "output_type": "execute_result"
    },
    {
     "data": {
      "text/plain": [
       "<tf.Tensor: shape=(2, 2), dtype=bool, numpy=\n",
       "array([[False,  True],\n",
       "       [False, False]])>"
      ]
     },
     "execution_count": 57,
     "metadata": {},
     "output_type": "execute_result"
    },
    {
     "data": {
      "text/plain": [
       "<tf.Tensor: shape=(2, 2), dtype=bool, numpy=\n",
       "array([[ True,  True],\n",
       "       [ True,  True]])>"
      ]
     },
     "execution_count": 57,
     "metadata": {},
     "output_type": "execute_result"
    },
    {
     "data": {
      "text/plain": [
       "<tf.Tensor: shape=(2, 2), dtype=bool, numpy=\n",
       "array([[False, False],\n",
       "       [False, False]])>"
      ]
     },
     "execution_count": 57,
     "metadata": {},
     "output_type": "execute_result"
    }
   ],
   "source": [
    "a >= 2\n",
    "(a >= 2) & (a <= 3)\n",
    "(a >= 2) | (a <= 3)\n",
    "a == 5"
   ]
  },
  {
   "cell_type": "code",
   "execution_count": 59,
   "metadata": {},
   "outputs": [
    {
     "data": {
      "text/plain": [
       "<tf.Tensor: shape=(2,), dtype=float32, numpy=array([12., 21.], dtype=float32)>"
      ]
     },
     "execution_count": 59,
     "metadata": {},
     "output_type": "execute_result"
    }
   ],
   "source": [
    "a = tf.constant([1.0,8.0])\n",
    "b = tf.constant([5.0,6.0])\n",
    "c = tf.constant([6.0,7.0])\n",
    "tf.add_n([a,b,c])"
   ]
  },
  {
   "cell_type": "code",
   "execution_count": 61,
   "metadata": {},
   "outputs": [
    {
     "data": {
      "text/plain": [
       "<tf.Tensor: shape=(2,), dtype=float32, numpy=array([5., 8.], dtype=float32)>"
      ]
     },
     "execution_count": 61,
     "metadata": {},
     "output_type": "execute_result"
    },
    {
     "data": {
      "text/plain": [
       "<tf.Tensor: shape=(2,), dtype=float32, numpy=array([1., 6.], dtype=float32)>"
      ]
     },
     "execution_count": 61,
     "metadata": {},
     "output_type": "execute_result"
    }
   ],
   "source": [
    "tf.maximum(a,b)\n",
    "tf.minimum(a,b)"
   ]
  },
  {
   "cell_type": "code",
   "execution_count": 62,
   "metadata": {},
   "outputs": [
    {
     "data": {
      "text/plain": [
       "<tf.Tensor: shape=(2, 2), dtype=float32, numpy=\n",
       "array([[ 5.,  8.],\n",
       "       [ 1., 18.]], dtype=float32)>"
      ]
     },
     "execution_count": 62,
     "metadata": {},
     "output_type": "execute_result"
    },
    {
     "data": {
      "text/plain": [
       "<tf.Tensor: shape=(2, 2), dtype=float32, numpy=\n",
       "array([[ 1.,  6.],\n",
       "       [-1.,  8.]], dtype=float32)>"
      ]
     },
     "execution_count": 62,
     "metadata": {},
     "output_type": "execute_result"
    }
   ],
   "source": [
    "a = tf.constant([[1.0,8.0],[-1.0,18.0]])\n",
    "b = tf.constant([[5.0,6.0],[1.0,8.0]])\n",
    "tf.maximum(a,b) ## 记住是标量运算\n",
    "tf.minimum(a,b)"
   ]
  },
  {
   "cell_type": "markdown",
   "metadata": {},
   "source": [
    "## 二．向量运算\n",
    "\n",
    "向量运算只在一个特定轴上运算，将一个向量映射到一个标量或者另一个向量，许多向量运算符都以reduce开头"
   ]
  },
  {
   "cell_type": "code",
   "execution_count": 65,
   "metadata": {},
   "outputs": [
    {
     "data": {
      "text/plain": [
       "<tf.Tensor: shape=(), dtype=int32, numpy=45>"
      ]
     },
     "execution_count": 65,
     "metadata": {},
     "output_type": "execute_result"
    },
    {
     "data": {
      "text/plain": [
       "<tf.Tensor: shape=(), dtype=int32, numpy=1>"
      ]
     },
     "execution_count": 65,
     "metadata": {},
     "output_type": "execute_result"
    },
    {
     "data": {
      "text/plain": [
       "<tf.Tensor: shape=(), dtype=int32, numpy=9>"
      ]
     },
     "execution_count": 65,
     "metadata": {},
     "output_type": "execute_result"
    },
    {
     "data": {
      "text/plain": [
       "<tf.Tensor: shape=(), dtype=int32, numpy=5>"
      ]
     },
     "execution_count": 65,
     "metadata": {},
     "output_type": "execute_result"
    },
    {
     "data": {
      "text/plain": [
       "<tf.Tensor: shape=(), dtype=int32, numpy=362880>"
      ]
     },
     "execution_count": 65,
     "metadata": {},
     "output_type": "execute_result"
    }
   ],
   "source": [
    "a = tf.range(1,10)\n",
    "tf.reduce_sum(a)\n",
    "tf.reduce_min(a)\n",
    "tf.reduce_max(a)\n",
    "tf.reduce_mean(a)\n",
    "tf.reduce_prod(a)"
   ]
  },
  {
   "cell_type": "code",
   "execution_count": 67,
   "metadata": {},
   "outputs": [
    {
     "data": {
      "text/plain": [
       "<tf.Tensor: shape=(3, 3), dtype=int32, numpy=\n",
       "array([[1, 2, 3],\n",
       "       [4, 5, 6],\n",
       "       [7, 8, 9]], dtype=int32)>"
      ]
     },
     "execution_count": 67,
     "metadata": {},
     "output_type": "execute_result"
    },
    {
     "data": {
      "text/plain": [
       "<tf.Tensor: shape=(3, 1), dtype=int32, numpy=\n",
       "array([[ 6],\n",
       "       [15],\n",
       "       [24]], dtype=int32)>"
      ]
     },
     "execution_count": 67,
     "metadata": {},
     "output_type": "execute_result"
    },
    {
     "data": {
      "text/plain": [
       "<tf.Tensor: shape=(1, 3), dtype=int32, numpy=array([[12, 15, 18]], dtype=int32)>"
      ]
     },
     "execution_count": 67,
     "metadata": {},
     "output_type": "execute_result"
    }
   ],
   "source": [
    "## 在指定维度上进行\n",
    "b = tf.reshape(a,(3,3))\n",
    "b\n",
    "tf.reduce_sum(b,axis=1,keepdims=True)\n",
    "tf.reduce_sum(b,axis=0,keepdims=True)"
   ]
  },
  {
   "cell_type": "code",
   "execution_count": 68,
   "metadata": {},
   "outputs": [
    {
     "data": {
      "text/plain": [
       "<tf.Tensor: shape=(), dtype=bool, numpy=False>"
      ]
     },
     "execution_count": 68,
     "metadata": {},
     "output_type": "execute_result"
    },
    {
     "data": {
      "text/plain": [
       "<tf.Tensor: shape=(), dtype=bool, numpy=True>"
      ]
     },
     "execution_count": 68,
     "metadata": {},
     "output_type": "execute_result"
    }
   ],
   "source": [
    "## bool类型的reduce\n",
    "p = tf.constant([True,False,True])\n",
    "q = tf.constant([False,True])\n",
    "tf.reduce_all(p)\n",
    "tf.reduce_any(q)"
   ]
  },
  {
   "cell_type": "code",
   "execution_count": 69,
   "metadata": {},
   "outputs": [
    {
     "data": {
      "text/plain": [
       "<tf.Tensor: shape=(), dtype=int32, numpy=45>"
      ]
     },
     "execution_count": 69,
     "metadata": {},
     "output_type": "execute_result"
    }
   ],
   "source": [
    "## tf.foldr实现tf.reduce_sum\n",
    "tf.foldr(lambda x,y:x+y,tf.range(10))"
   ]
  },
  {
   "cell_type": "code",
   "execution_count": 72,
   "metadata": {},
   "outputs": [
    {
     "data": {
      "text/plain": [
       "<tf.Tensor: shape=(10,), dtype=int32, numpy=array([ 1,  3,  6, 10, 15, 21, 28, 36, 45, 55], dtype=int32)>"
      ]
     },
     "execution_count": 72,
     "metadata": {},
     "output_type": "execute_result"
    },
    {
     "data": {
      "text/plain": [
       "<tf.Tensor: shape=(10,), dtype=int32, numpy=\n",
       "array([      1,       2,       6,      24,     120,     720,    5040,\n",
       "         40320,  362880, 3628800], dtype=int32)>"
      ]
     },
     "execution_count": 72,
     "metadata": {},
     "output_type": "execute_result"
    }
   ],
   "source": [
    "## cum扫描累积\n",
    "a = tf.range(1,11)\n",
    "tf.math.cumsum(a)\n",
    "tf.math.cumprod(a)"
   ]
  },
  {
   "cell_type": "code",
   "execution_count": 76,
   "metadata": {},
   "outputs": [
    {
     "data": {
      "text/plain": [
       "<tf.Tensor: shape=(), dtype=int64, numpy=9>"
      ]
     },
     "execution_count": 76,
     "metadata": {},
     "output_type": "execute_result"
    },
    {
     "data": {
      "text/plain": [
       "<tf.Tensor: shape=(), dtype=int64, numpy=0>"
      ]
     },
     "execution_count": 76,
     "metadata": {},
     "output_type": "execute_result"
    }
   ],
   "source": [
    "## 最大最小索引\n",
    "tf.argmax(a)\n",
    "tf.argmin(a)"
   ]
  },
  {
   "cell_type": "code",
   "execution_count": 77,
   "metadata": {},
   "outputs": [
    {
     "data": {
      "text/plain": [
       "<tf.Tensor: shape=(3,), dtype=int32, numpy=array([8, 7, 5], dtype=int32)>"
      ]
     },
     "execution_count": 77,
     "metadata": {},
     "output_type": "execute_result"
    },
    {
     "data": {
      "text/plain": [
       "<tf.Tensor: shape=(3,), dtype=int32, numpy=array([5, 2, 3], dtype=int32)>"
      ]
     },
     "execution_count": 77,
     "metadata": {},
     "output_type": "execute_result"
    }
   ],
   "source": [
    "## 对张量排序\n",
    "a = tf.constant([1,3,7,5,4,8])\n",
    "values,indices = tf.math.top_k(a,3,sorted=True)\n",
    "values\n",
    "indices"
   ]
  },
  {
   "cell_type": "code",
   "execution_count": null,
   "metadata": {},
   "outputs": [],
   "source": []
  }
 ],
 "metadata": {
  "kernelspec": {
   "display_name": "Python 3",
   "language": "python",
   "name": "python3"
  },
  "language_info": {
   "codemirror_mode": {
    "name": "ipython",
    "version": 3
   },
   "file_extension": ".py",
   "mimetype": "text/x-python",
   "name": "python",
   "nbconvert_exporter": "python",
   "pygments_lexer": "ipython3",
   "version": "3.7.0"
  }
 },
 "nbformat": 4,
 "nbformat_minor": 2
}
