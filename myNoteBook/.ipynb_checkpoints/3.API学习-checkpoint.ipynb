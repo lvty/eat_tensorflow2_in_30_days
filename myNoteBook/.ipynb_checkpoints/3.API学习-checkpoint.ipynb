{
 "cells": [
  {
   "cell_type": "markdown",
   "metadata": {},
   "source": [
    "## 1. 低阶API\n",
    "\n",
    "使用TF的低阶API实现LR，主要包括张量操作，计算图和自动微分"
   ]
  },
  {
   "cell_type": "code",
   "execution_count": 7,
   "metadata": {},
   "outputs": [],
   "source": [
    "import tensorflow as tf\n",
    "\n",
    "@tf.function\n",
    "def printbar():\n",
    "    '''打印时间分割线'''\n",
    "    ts = tf.timestamp()\n",
    "    today_ts = ts%(24*60*60)\n",
    "    \n",
    "    hour = tf.cast(today_ts//3600+8,tf.int32)%tf.constant(24)\n",
    "    minute = tf.cast((today_ts%3600)//60,tf.int32)\n",
    "    second = tf.cast(tf.floor(today_ts%60),tf.int32)\n",
    "    \n",
    "    def timeformat(m):\n",
    "        if tf.strings.length(tf.strings.format('{}',m)) == 1:\n",
    "            return (tf.strings.format('0{}',m))\n",
    "        else:\n",
    "            return (tf.strings.format('{}',m))\n",
    "    timestring = tf.strings.join([timeformat(hour),timeformat(minute),timeformat(second)],separator=':')\n",
    "    tf.print('==========='*8,end='')\n",
    "    tf.print(timestring)"
   ]
  },
  {
   "cell_type": "code",
   "execution_count": 2,
   "metadata": {},
   "outputs": [],
   "source": [
    "# 样本数量\n",
    "n = 400\n",
    "\n",
    "#　生成测试数据集\n",
    "X = tf.random.uniform([n,2],minval=-10,maxval=10)\n",
    "w0 = tf.constant([[2.],[-1.]])\n",
    "b0 = tf.constant(3.)\n",
    "\n",
    "Y = X@w0 + b0 + tf.random.normal([n,1],mean=0.,stddev=2.) ##　＠表示矩阵乘法"
   ]
  },
  {
   "cell_type": "code",
   "execution_count": 11,
   "metadata": {},
   "outputs": [
    {
     "name": "stdout",
     "output_type": "stream",
     "text": [
      "========================================================================================22:33:10\n",
      "epoch =  1000 loss =  1.90156579\n",
      "w =  [[1.98417735]\n",
      " [-1.01033676]]\n",
      "b =  3.02127075\n",
      "========================================================================================22:33:10\n",
      "epoch =  2000 loss =  1.90156615\n",
      "w =  [[1.98417807]\n",
      " [-1.01033664]]\n",
      "b =  3.02139187\n",
      "========================================================================================22:33:10\n",
      "epoch =  3000 loss =  1.90156615\n",
      "w =  [[1.98417807]\n",
      " [-1.01033664]]\n",
      "b =  3.02139187\n",
      "========================================================================================22:33:10\n",
      "epoch =  4000 loss =  1.90156615\n",
      "w =  [[1.98417807]\n",
      " [-1.01033664]]\n",
      "b =  3.02139187\n",
      "========================================================================================22:33:10\n",
      "epoch =  5000 loss =  1.90156615\n",
      "w =  [[1.98417807]\n",
      " [-1.01033664]]\n",
      "b =  3.02139187\n"
     ]
    }
   ],
   "source": [
    "#　动态图调试\n",
    "\n",
    "w = tf.Variable(tf.random.normal(w0.shape))\n",
    "b = tf.Variable(0.)\n",
    "\n",
    "@tf.function ##采用AutoGraph速度会快很多\n",
    "def train(epoches):\n",
    "    for epoch in tf.range(1,epoches + 1):\n",
    "        with tf.GradientTape() as tape:\n",
    "            Y_hat = X@w + b\n",
    "            loss = tf.squeeze(tf.transpose(Y-Y_hat)@(Y-Y_hat))/(2.*n)\n",
    "        dloss_w,dloss_b = tape.gradient(loss,[w,b])\n",
    "        \n",
    "        ##参数更新\n",
    "        w.assign(w - 0.01 * dloss_w)\n",
    "        b.assign(b - 0.01 * dloss_b)\n",
    "        \n",
    "        if epoch%1000 == 0:\n",
    "            printbar()\n",
    "            tf.print('epoch = ',epoch,'loss = ',loss)\n",
    "            tf.print('w = ', w)\n",
    "            tf.print('b = ', b)\n",
    "\n",
    "train(5000)"
   ]
  },
  {
   "cell_type": "markdown",
   "metadata": {},
   "source": [
    "## 2.中阶API\n",
    "\n",
    "主要包含各种模型层，损失函数，优化器，数据管道，特征列等"
   ]
  },
  {
   "cell_type": "code",
   "execution_count": 12,
   "metadata": {},
   "outputs": [],
   "source": [
    "from tensorflow.keras import layers,losses,metrics,optimizers"
   ]
  },
  {
   "cell_type": "code",
   "execution_count": 13,
   "metadata": {},
   "outputs": [],
   "source": [
    "n = 800\n",
    "\n",
    "#　生成测试数据集\n",
    "X = tf.random.uniform([n,2],minval=-10,maxval=10)\n",
    "w0 = tf.constant([[2.],[-1.]])\n",
    "b0 = tf.constant(3.)\n",
    "\n",
    "Y = X@w0 + b0 + tf.random.normal([n,1],mean=0.,stddev=2.) ##　＠表示矩阵乘法\n",
    "\n",
    "#　构建输入数据管道\n",
    "ds = tf.data.Dataset.from_tensor_slices((X,Y)).shuffle(buffer_size=1000).batch(100).prefetch(tf.data.experimental.AUTOTUNE)\n",
    "\n",
    "optimizer = optimizers.SGD(learning_rate=0.01)\n",
    "\n",
    "linear = layers.Dense(units=1)\n",
    "linear.build(input_shape=(2,))"
   ]
  },
  {
   "cell_type": "code",
   "execution_count": 14,
   "metadata": {},
   "outputs": [
    {
     "name": "stdout",
     "output_type": "stream",
     "text": [
      "========================================================================================23:13:35\n",
      "epoch =  1000 loss =  2.92036676\n",
      "w =  [[1.94641435]\n",
      " [-0.973751605]]\n",
      "b =  [2.91131783]\n",
      "========================================================================================23:13:53\n",
      "epoch =  2000 loss =  4.56723928\n",
      "w =  [[2.00512505]\n",
      " [-1.06644809]]\n",
      "b =  [2.90649652]\n",
      "========================================================================================23:14:11\n",
      "epoch =  3000 loss =  3.80342197\n",
      "w =  [[2.02954888]\n",
      " [-1.00142503]]\n",
      "b =  [2.90763712]\n",
      "========================================================================================23:14:28\n",
      "epoch =  4000 loss =  3.7691431\n",
      "w =  [[1.98639178]\n",
      " [-0.980249465]]\n",
      "b =  [2.91048408]\n",
      "========================================================================================23:14:46\n",
      "epoch =  5000 loss =  3.99176764\n",
      "w =  [[2.00055194]\n",
      " [-0.99600476]]\n",
      "b =  [2.90917897]\n"
     ]
    }
   ],
   "source": [
    "@tf.function\n",
    "def train(epoches):\n",
    "    for epoch in tf.range(1,epoches+1):\n",
    "        L = tf.constant(0.) ##记录loss数值\n",
    "        for X_batch,Y_batch in ds:\n",
    "            with tf.GradientTape() as tape:\n",
    "                Y_hat = linear(X_batch)\n",
    "                loss = losses.mean_squared_error(tf.reshape(Y_hat,[-1]),tf.reshape(Y_batch,[-1]))\n",
    "            grads = tape.gradient(loss,linear.variables)\n",
    "            optimizer.apply_gradients(grads_and_vars=zip(grads,linear.variables))\n",
    "            L = loss\n",
    "        if epoch%1000 == 0:\n",
    "            printbar()\n",
    "            tf.print('epoch = ',epoch,'loss = ',L)\n",
    "            tf.print('w = ', linear.kernel)\n",
    "            tf.print('b = ', linear.bias)\n",
    "train(5000)"
   ]
  },
  {
   "cell_type": "markdown",
   "metadata": {},
   "source": [
    "### 补充：\n",
    "\n",
    "- １．tf.data.Dataset.from_tensor_slices\n",
    "\n",
    "dataset = tf.data.Dataset.from_tensor_slices(np.random.uniform((5,2)))\n",
    "\n",
    "就会切分它形状上的第一个维度，最后生成的dataset中一共含有5个元素，每个元素的形状是(2, )，即每个元素是矩阵的一行。\n",
    "\n",
    "- 2.shuffle\n",
    "\n",
    "维持一个buffer_size 大小的数据集，从源数据集中取得一个样本后，将样本到shuffle buffer中．然后从buffer冲去一个样本到batch中;\n",
    "\n",
    "如果shuffle 的buffer size=1，数据集不打乱。如果shuffle 的buffer size=数据集样本数量，随机打乱整个数据集.\n",
    "\n",
    "- 3.batch \n",
    "\n",
    "即batch size，注意在一个epoch中最后一个batch大小可能小于等于batch size.\n",
    "\n",
    "- 4.repeat\n",
    "\n",
    "俗称epoch，但在tf中与dataset.shuffle的使用顺序可能会导致个epoch的混合数据集重复了指定次数,此时epoch失效;"
   ]
  },
  {
   "cell_type": "code",
   "execution_count": null,
   "metadata": {},
   "outputs": [],
   "source": []
  }
 ],
 "metadata": {
  "kernelspec": {
   "display_name": "Python 3",
   "language": "python",
   "name": "python3"
  },
  "language_info": {
   "codemirror_mode": {
    "name": "ipython",
    "version": 3
   },
   "file_extension": ".py",
   "mimetype": "text/x-python",
   "name": "python",
   "nbconvert_exporter": "python",
   "pygments_lexer": "ipython3",
   "version": "3.7.0"
  }
 },
 "nbformat": 4,
 "nbformat_minor": 2
}
